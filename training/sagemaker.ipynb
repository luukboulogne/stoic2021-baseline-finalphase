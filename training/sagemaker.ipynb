{
 "cells": [
  {
   "cell_type": "code",
   "execution_count": 15,
   "id": "48171738-06dc-4d0b-8aa5-2c5b4912c832",
   "metadata": {
    "tags": []
   },
   "outputs": [],
   "source": [
    "import os\n",
    "from sagemaker.pytorch import PyTorch\n",
    "from sagemaker import get_execution_role"
   ]
  },
  {
   "cell_type": "code",
   "execution_count": 16,
   "id": "c79494e5-f2b4-4e41-9e8e-4c791c15630e",
   "metadata": {
    "tags": []
   },
   "outputs": [],
   "source": [
    "# Set location of dataset, and locations to write preprocessed data and artifact\n",
    "test_mode = True\n",
    "\n",
    "if test_mode:\n",
    "    dataset_location = \"s3://rumc-stoic-p-sagemaker-luuk-boulogne/stoic21/test/dataset/\"\n",
    "    preprocessed_location = \"s3://rumc-stoic-p-sagemaker-luuk-boulogne/stoic21/test/preprocessed/\"\n",
    "    artifact_location = \"s3://rumc-stoic-p-sagemaker-luuk-boulogne/stoic21/stoic2021-training/artifact/\"\n",
    "else:\n",
    "    dataset_location = \"s3://stoic2021-training/\"\n",
    "    preprocessed_location = \"s3://rumc-stoic-p-sagemaker-luuk-boulogne/stoic21/stoic2021-training/preprocessed/\"\n",
    "    artifact_location = \"s3://rumc-stoic-p-sagemaker-luuk-boulogne/stoic21/stoic2021-training/artifact/\"\n"
   ]
  },
  {
   "cell_type": "code",
   "execution_count": null,
   "id": "07f48064-b45c-4d1b-a14e-ba6eeca3a7ca",
   "metadata": {
    "tags": []
   },
   "outputs": [],
   "source": [
    "# Do preprocessing\n",
    "\n",
    "estimator = PyTorch(  #Pytorch is not actually needed for preprocessing, \n",
    "    entry_point='do_preprocess.py',  # A python file in source_dir\n",
    "    source_dir=os.getcwd(),  # local path (in SageMaker Studio)\n",
    "    role=get_execution_role(),\n",
    "    instance_type='ml.m5.large',\n",
    "    instance_count=1,\n",
    "    # volume_size=500,  # Scratch volume mounted at /tmp/ in GB\n",
    "    framework_version='1.12',\n",
    "    py_version='py38',\n",
    "    max_run=60,  # in seconds, maximum is 5 days\n",
    "    checkpoint_s3_uri=preprocessed_location,  # gets pulled from to checkpoint_local_path at the start of training, and pushed to at the end\n",
    "    checkpoint_local_path= '/preprocessed/',\n",
    ")\n",
    "\n",
    "estimator.fit(\n",
    "    inputs={  # Each input folder passed must have contents. \n",
    "        'dataset': dataset_location,\n",
    "    }  # Paths are available on the training instance in environment variables named SM_CHANNEL_<KEY>, e.g. SM_CHANNEL_IMAGES\n",
    ")"
   ]
  },
  {
   "cell_type": "code",
   "execution_count": null,
   "id": "f6be4a3a-6ecb-4ef4-aaca-71b29d695ab6",
   "metadata": {},
   "outputs": [],
   "source": [
    "# Do Training\n",
    "\n",
    "estimator = PyTorch(\n",
    "    entry_point='train.py',  # A python file in source_dir\n",
    "    source_dir=os.getcwd(),  # local path (in SageMaker Studio)\n",
    "    role=get_execution_role(),\n",
    "    instance_type='ml.g4dn.xlarge',\n",
    "    instance_count=1,\n",
    "    volume_size=5,  # Scratch volume mounted at /tmp/ in GB\n",
    "    framework_version='1.12',\n",
    "    py_version='py38',\n",
    "    max_run=600,  # in seconds, maximum is 5 days\n",
    "    checkpoint_s3_uri=artifact_location,  # gets pulled from to checkpoint_local_path at the start of training, and pushed to at the end\n",
    "    checkpoint_local_path= '/artifact/',  \n",
    ")\n",
    "\n",
    "estimator.fit(\n",
    "    inputs={  # Each input folder passed must have contents. \n",
    "        'preprocessed': preprocessed_location,\n",
    "    }  # Paths are available on the training instance in environment variables named SM_CHANNEL_<KEY>, e.g. SM_CHANNEL_IMAGES\n",
    ")"
   ]
  },
  {
   "cell_type": "code",
   "execution_count": null,
   "id": "7cf1aa44-b655-444b-96c0-951408cc9935",
   "metadata": {},
   "outputs": [],
   "source": []
  }
 ],
 "metadata": {
  "instance_type": "ml.t3.medium",
  "kernelspec": {
   "display_name": "Python 3 (Data Science)",
   "language": "python",
   "name": "python3__SAGEMAKER_INTERNAL__arn:aws:sagemaker:us-east-1:081325390199:image/datascience-1.0"
  },
  "language_info": {
   "codemirror_mode": {
    "name": "ipython",
    "version": 3
   },
   "file_extension": ".py",
   "mimetype": "text/x-python",
   "name": "python",
   "nbconvert_exporter": "python",
   "pygments_lexer": "ipython3",
   "version": "3.7.10"
  }
 },
 "nbformat": 4,
 "nbformat_minor": 5
}
